{
 "cells": [
  {
   "cell_type": "markdown",
   "metadata": {},
   "source": [
    "**1. (Morbidelli 2.4)**\n",
    "\n",
    "Consider the problem\n",
    "\n",
    "$$\\frac{dy}{dx} = 2x(y+1), y(0) = 0 $$\n",
    "\n",
    "over the domain $\\mid x \\mid \\le 1, \\mid y \\mid \\le 2$\n",
    "\n",
    "1. Determine the analytic solution y(x).\n",
    "2. Determine the successive approximations, $y_j(s), j=1 \\rightarrow 4$. From these, by induction, find $lim_{j \\rightarrow \\infty}{y_j(x)}$ and show that it is the same as found in 1.\n",
    "3. Compare y(1) with $y_4(1)$.\n",
    "4. **Plot the analytic and successive approximations.**"
   ]
  },
  {
   "cell_type": "markdown",
   "metadata": {},
   "source": [
    "**2. Morbidelli 2.8 (Modified)**\n",
    "\n",
    "For the problem \n",
    "\n",
    "$$\\frac{du}{dt} = f(u) = u(1-u)(u-2) \\text{ at } t=0, u=u_0 \\in (- \\infty, \\infty) $$\n",
    "\n",
    "repeat the analysis carried out in the text. Thus:\n",
    "\n",
    "1. Determine the steady states.\n",
    "2. Carry out a qualitative analysis by plotting f(u) versus u, and investigate the behavior as $t \\rightarrow \\infty$ for various ICs\n",
    "3. **Skip**\n",
    "4. Confirm the results of part (b) by analytic solution.\n",
    "5. **Make plot(s) of the analytic solution with various ICs**"
   ]
  },
  {
   "cell_type": "markdown",
   "metadata": {},
   "source": [
    "**3. Morbidelli 2.11**\n",
    "\n",
    "For each of the problems below,\n",
    "\n",
    "- Determine the eigenvalues/vectors\n",
    "- Classify the origin regarding its type and stability\n",
    "- Sketch a few trajectories in the phase plane (**use matplotlib or another plotting package to do this**).\n",
    "\n",
    "<!-- -->\n",
    "\n",
    "1. $\\frac{d \\textbf{x}}{dt} = \\begin{bmatrix} 1 & -2 \\\\ 3 & -4 \\end{bmatrix} \\textbf{x}$\n",
    "2. $\\frac{d \\textbf{x}}{dt} = \\begin{bmatrix} -1 & 2 \\\\ -3 & 4 \\end{bmatrix} \\textbf{x}$\n",
    "3. $\\frac{d \\textbf{x}}{dt} = \\begin{bmatrix} 1 & 3 \\\\ 4 & 2 \\end{bmatrix} \\textbf{x}$\n",
    "4. $\\frac{d \\textbf{x}}{dt} = \\begin{bmatrix} -6 & 8 \\\\ -2 & 2 \\end{bmatrix} \\textbf{x}$\n",
    "5. $\\frac{d \\textbf{x}}{dt} = \\begin{bmatrix} 1 & 1 \\\\ -5 & -3 \\end{bmatrix} \\textbf{x}$\n",
    "6. $\\frac{d \\textbf{x}}{dt} = \\begin{bmatrix} 1 & -2 \\\\ 1 & 3 \\end{bmatrix} \\textbf{x}$\n",
    "7. $\\frac{d \\textbf{x}}{dt} = \\begin{bmatrix} 2 & -6 \\\\ 1 & -2 \\end{bmatrix} \\textbf{x}$"
   ]
  },
  {
   "cell_type": "code",
   "execution_count": null,
   "metadata": {},
   "outputs": [],
   "source": []
  }
 ],
 "metadata": {
  "kernelspec": {
   "display_name": "Python 3",
   "language": "python",
   "name": "python3"
  },
  "language_info": {
   "codemirror_mode": {
    "name": "ipython",
    "version": 3
   },
   "file_extension": ".py",
   "mimetype": "text/x-python",
   "name": "python",
   "nbconvert_exporter": "python",
   "pygments_lexer": "ipython3",
   "version": "3.7.2"
  }
 },
 "nbformat": 4,
 "nbformat_minor": 2
}
